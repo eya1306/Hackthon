{
 "cells": [
  {
   "cell_type": "code",
   "execution_count": 1,
   "metadata": {},
   "outputs": [
    {
     "name": "stderr",
     "output_type": "stream",
     "text": [
      "c:\\Users\\ranim\\OneDrive\\Documents\\projects\\hackathon\\Hackthon\\venv\\Lib\\site-packages\\tqdm\\auto.py:21: TqdmWarning: IProgress not found. Please update jupyter and ipywidgets. See https://ipywidgets.readthedocs.io/en/stable/user_install.html\n",
      "  from .autonotebook import tqdm as notebook_tqdm\n"
     ]
    }
   ],
   "source": [
    "from langgraph.graph import END , StateGraph, MessagesState, START\n",
    "from langchain_core.messages import convert_to_messages, RemoveMessage, HumanMessage\n",
    "from langchain_google_genai import ChatGoogleGenerativeAI\n",
    "\n",
    "from langgraph.checkpoint.memory import MemorySaver\n",
    "from langchain_core.runnables.config import RunnableConfig\n",
    "from chains.chains import intent_recognition_chain, rephrase_chain, categorize_chain\n",
    "from vector_store.chroma_management import add_new_doc\n",
    "import os\n",
    "from dotenv import load_dotenv\n",
    "load_dotenv()\n",
    "import re\n",
    "\n",
    "def clean_newlines(input_string):\n",
    "    # Remove all newline characters from the string\n",
    "    cleaned_string = re.sub(r'\\n', '', input_string)\n",
    "    return cleaned_string\n",
    "\n",
    "\n",
    "llmG = ChatGoogleGenerativeAI(model=\"gemini-1.5-flash-8b\", google_api_key=os.getenv(\"GOOGLE_API_KEY\"))\n",
    "\n",
    "class AgentState(MessagesState):\n",
    "    \"\"\"The state of the graph\"\"\"\n",
    "    user_id:str\n",
    "    message_id:str\n",
    "    message_text :str\n",
    "    summary_text : str\n",
    "    current : str\n",
    "\n",
    "\n",
    "def intent_recognition_node(state : AgentState):\n",
    "    \"\"\"\"\"\"\n",
    "    print(f\"The state in Intent {state}\")\n",
    "    intent_recognition_runnable = intent_recognition_chain(llm=llmG)\n",
    "    result = intent_recognition_runnable.invoke({\"user_input\": state[\"messages\"][-1].content})\n",
    "\n",
    "    return {\"messages\": [result], \"current\": \"Intent\"}\n",
    "\n",
    "\n",
    "def check_message_node(state: AgentState):\n",
    "    \"\"\"Check if the user's message message exist\"\"\"\n",
    "    print(f\"The state in Check {state}\")\n",
    "    result = add_new_doc(state[\"user_id\"], state[\"message_id\"], state[\"message_text\"])\n",
    "    print(result)\n",
    "    return {\"messages\":[result], \"current\":\"Check Message\"}\n",
    "\n",
    "def rephrase_node(state : AgentState):\n",
    "    print(f\"The state in rephrase {state}\")\n",
    "\n",
    "    rephrase_runnable = rephrase_chain(llm=llmG)\n",
    "    result = rephrase_runnable.invoke({\"user_input\": state[\"message_text\"]})\n",
    "    return {\"messages\":[result], \"current\":\"Rephrase\"}\n",
    "\n",
    "def categorize_node(state : AgentState):\n",
    "    print(f\"The state in rephrase {state}\")\n",
    "\n",
    "    categorize_runnable = categorize_chain(llm=llmG)\n",
    "    result = categorize_runnable.invoke({\"user_input\": state[\"message_text\"], \"summary\":state[\"messages\"][-1].content})\n",
    "    return {\"messages\":[result], \"current\":\"Categorize\", \"summary_text\":state[\"messages\"][-1].content}\n",
    "\n",
    "def if_complaint(state:AgentState):\n",
    "    result = state[\"messages\"][-1].content\n",
    "    clean=clean_newlines(result)\n",
    "    print(f\"clean {clean}\")\n",
    "    if clean == \"True\":\n",
    "        return \"check\"\n",
    "    else:\n",
    "        return END\n",
    "    \n",
    "def if_msg_exist(state:AgentState):\n",
    "    result = state[\"messages\"][-1].content\n",
    "    clean=clean_newlines(result)\n",
    "    print(f\"clean {clean}\")\n",
    "    if clean == \"added\":\n",
    "        return \"rephrase\"\n",
    "    else:\n",
    "        return END\n",
    "\n",
    "workflow = StateGraph(AgentState)\n",
    "\n",
    "workflow.add_node(\"intent\", intent_recognition_node)\n",
    "workflow.add_node(\"check\", check_message_node)\n",
    "workflow.add_node(\"rephrase\", rephrase_node)\n",
    "workflow.add_node(\"categorize\", categorize_node)\n",
    "\n",
    "workflow.add_edge(START, \"intent\")\n",
    "workflow.add_conditional_edges(\"intent\",if_complaint, {\n",
    "    \"check\":\"check\",\n",
    "    END:END\n",
    "})\n",
    "workflow.add_conditional_edges(\"check\", if_msg_exist, {\n",
    "    \"rephrase\":\"rephrase\",\n",
    "    END : END\n",
    "})\n",
    "\n",
    "workflow.add_edge(\"rephrase\", \"categorize\")\n",
    "\n",
    "\n",
    "graph = workflow.compile()\n",
    "\n"
   ]
  },
  {
   "cell_type": "code",
   "execution_count": 2,
   "metadata": {},
   "outputs": [
    {
     "data": {
      "image/png": "[encoded data removed]",
      "text/plain": [
       "<IPython.core.display.Image object>"
      ]
     },
     "metadata": {},
     "output_type": "display_data"
    }
   ],
   "source": [
    "from IPython.display import Image, display\n",
    "\n",
    "# Setting xray to 1 will show the internal structure of the nested graph\n",
    "display(Image(graph.get_graph(xray=1).draw_mermaid_png()))"
   ]
  },
  {
   "cell_type": "code",
   "execution_count": 2,
   "metadata": {},
   "outputs": [
    {
     "name": "stdout",
     "output_type": "stream",
     "text": [
      "Processed event: {'messages': [HumanMessage(content='im not happy with the packaging', additional_kwargs={}, response_metadata={}, id='1f9695df-66dd-4e8f-83c5-9b767e0a39b9')], 'user_id': 'testid', 'message_id': '12', 'message_text': 'im not happy with the packaging', 'summary_text': ''}\n",
      "The state in Intent {'messages': [HumanMessage(content='im not happy with the packaging', additional_kwargs={}, response_metadata={}, id='1f9695df-66dd-4e8f-83c5-9b767e0a39b9')], 'user_id': 'testid', 'message_id': '12', 'message_text': 'im not happy with the packaging', 'summary_text': ''}\n",
      "clean True\n",
      "Processed event: {'messages': [HumanMessage(content='im not happy with the packaging', additional_kwargs={}, response_metadata={}, id='1f9695df-66dd-4e8f-83c5-9b767e0a39b9'), AIMessage(content='True\\n', additional_kwargs={}, response_metadata={'prompt_feedback': {'block_reason': 0, 'safety_ratings': []}, 'finish_reason': 'STOP', 'safety_ratings': [{'category': 'HARM_CATEGORY_HATE_SPEECH', 'probability': 'NEGLIGIBLE', 'blocked': False}, {'category': 'HARM_CATEGORY_DANGEROUS_CONTENT', 'probability': 'NEGLIGIBLE', 'blocked': False}, {'category': 'HARM_CATEGORY_HARASSMENT', 'probability': 'NEGLIGIBLE', 'blocked': False}, {'category': 'HARM_CATEGORY_SEXUALLY_EXPLICIT', 'probability': 'NEGLIGIBLE', 'blocked': False}]}, id='run-aaf29a2e-b68d-4020-aa90-a98d19e64975-0', usage_metadata={'input_tokens': 210, 'output_tokens': 2, 'total_tokens': 212, 'input_token_details': {'cache_read': 0}})], 'user_id': 'testid', 'message_id': '12', 'message_text': 'im not happy with the packaging', 'summary_text': '', 'current': 'Intent'}\n",
      "The state in Check {'messages': [HumanMessage(content='im not happy with the packaging', additional_kwargs={}, response_metadata={}, id='1f9695df-66dd-4e8f-83c5-9b767e0a39b9'), AIMessage(content='True\\n', additional_kwargs={}, response_metadata={'prompt_feedback': {'block_reason': 0, 'safety_ratings': []}, 'finish_reason': 'STOP', 'safety_ratings': [{'category': 'HARM_CATEGORY_HATE_SPEECH', 'probability': 'NEGLIGIBLE', 'blocked': False}, {'category': 'HARM_CATEGORY_DANGEROUS_CONTENT', 'probability': 'NEGLIGIBLE', 'blocked': False}, {'category': 'HARM_CATEGORY_HARASSMENT', 'probability': 'NEGLIGIBLE', 'blocked': False}, {'category': 'HARM_CATEGORY_SEXUALLY_EXPLICIT', 'probability': 'NEGLIGIBLE', 'blocked': False}]}, id='run-aaf29a2e-b68d-4020-aa90-a98d19e64975-0', usage_metadata={'input_tokens': 210, 'output_tokens': 2, 'total_tokens': 212, 'input_token_details': {'cache_read': 0}})], 'user_id': 'testid', 'message_id': '12', 'message_text': 'im not happy with the packaging', 'summary_text': '', 'current': 'Intent'}\n",
      "exists\n",
      "clean exists\n",
      "Processed event: {'messages': [HumanMessage(content='im not happy with the packaging', additional_kwargs={}, response_metadata={}, id='1f9695df-66dd-4e8f-83c5-9b767e0a39b9'), AIMessage(content='True\\n', additional_kwargs={}, response_metadata={'prompt_feedback': {'block_reason': 0, 'safety_ratings': []}, 'finish_reason': 'STOP', 'safety_ratings': [{'category': 'HARM_CATEGORY_HATE_SPEECH', 'probability': 'NEGLIGIBLE', 'blocked': False}, {'category': 'HARM_CATEGORY_DANGEROUS_CONTENT', 'probability': 'NEGLIGIBLE', 'blocked': False}, {'category': 'HARM_CATEGORY_HARASSMENT', 'probability': 'NEGLIGIBLE', 'blocked': False}, {'category': 'HARM_CATEGORY_SEXUALLY_EXPLICIT', 'probability': 'NEGLIGIBLE', 'blocked': False}]}, id='run-aaf29a2e-b68d-4020-aa90-a98d19e64975-0', usage_metadata={'input_tokens': 210, 'output_tokens': 2, 'total_tokens': 212, 'input_token_details': {'cache_read': 0}}), HumanMessage(content='exists', additional_kwargs={}, response_metadata={}, id='d788db28-afcb-46cf-a882-1f87e9780659')], 'user_id': 'testid', 'message_id': '12', 'message_text': 'im not happy with the packaging', 'summary_text': '', 'current': 'Check Message'}\n"
     ]
    },
    {
     "data": {
      "text/plain": [
       "{'messages': [HumanMessage(content='im not happy with the packaging', additional_kwargs={}, response_metadata={}, id='1f9695df-66dd-4e8f-83c5-9b767e0a39b9'),\n",
       "  AIMessage(content='True\\n', additional_kwargs={}, response_metadata={'prompt_feedback': {'block_reason': 0, 'safety_ratings': []}, 'finish_reason': 'STOP', 'safety_ratings': [{'category': 'HARM_CATEGORY_HATE_SPEECH', 'probability': 'NEGLIGIBLE', 'blocked': False}, {'category': 'HARM_CATEGORY_DANGEROUS_CONTENT', 'probability': 'NEGLIGIBLE', 'blocked': False}, {'category': 'HARM_CATEGORY_HARASSMENT', 'probability': 'NEGLIGIBLE', 'blocked': False}, {'category': 'HARM_CATEGORY_SEXUALLY_EXPLICIT', 'probability': 'NEGLIGIBLE', 'blocked': False}]}, id='run-aaf29a2e-b68d-4020-aa90-a98d19e64975-0', usage_metadata={'input_tokens': 210, 'output_tokens': 2, 'total_tokens': 212, 'input_token_details': {'cache_read': 0}}),\n",
       "  HumanMessage(content='exists', additional_kwargs={}, response_metadata={}, id='d788db28-afcb-46cf-a882-1f87e9780659')],\n",
       " 'user_id': 'testid',\n",
       " 'message_id': '12',\n",
       " 'message_text': 'im not happy with the packaging',\n",
       " 'summary_text': '',\n",
       " 'current': 'Check Message'}"
      ]
     },
     "execution_count": 2,
     "metadata": {},
     "output_type": "execute_result"
    }
   ],
   "source": [
    "def graph_stream(user_input):\n",
    "        # Process the query using graph.astream\n",
    "    user_input_message = HumanMessage(content=user_input)\n",
    "\n",
    "\n",
    "    for event in graph.stream(\n",
    "            {\"messages\": [user_input_message], \"user_id\":\"testid\",\"message_id\":\"12\",\"message_text\":user_input, \"summary_text\":\"\"},\n",
    "            stream_mode=\"values\",\n",
    "        ):\n",
    "        print(f\"Processed event: {event}\")\n",
    "            \n",
    "    return event\n",
    "\n",
    "\n",
    "graph_stream(\"im not happy with the packaging\")"
   ]
  }
 ],
 "metadata": {
  "kernelspec": {
   "display_name": "venv",
   "language": "python",
   "name": "python3"
  },
  "language_info": {
   "codemirror_mode": {
    "name": "ipython",
    "version": 3
   },
   "file_extension": ".py",
   "mimetype": "text/x-python",
   "name": "python",
   "nbconvert_exporter": "python",
   "pygments_lexer": "ipython3",
   "version": "3.11.5"
  }
 },
 "nbformat": 4,
 "nbformat_minor": 2
}
